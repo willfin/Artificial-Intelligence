{
  "nbformat": 4,
  "nbformat_minor": 0,
  "metadata": {
    "colab": {
      "provenance": []
    },
    "kernelspec": {
      "name": "python3",
      "display_name": "Python 3"
    },
    "language_info": {
      "name": "python"
    }
  },
  "cells": [
    {
      "cell_type": "code",
      "execution_count": 1,
      "metadata": {
        "colab": {
          "base_uri": "https://localhost:8080/"
        },
        "id": "7ITGT0JYcheU",
        "outputId": "fa4983a7-5ac8-446d-9db0-2bffe264de0b"
      },
      "outputs": [
        {
          "output_type": "stream",
          "name": "stdout",
          "text": [
            "1D Array: [1 2 3 4]\n",
            "2D Array:\n",
            " [[1 2]\n",
            " [3 4]]\n",
            "Zeros:\n",
            " [[0. 0. 0.]\n",
            " [0. 0. 0.]]\n",
            "Ones:\n",
            " [[1. 1. 1.]\n",
            " [1. 1. 1.]\n",
            " [1. 1. 1.]]\n",
            "Random:\n",
            " [[0.27717881 0.60296578]\n",
            " [0.70253036 0.9547137 ]]\n",
            "Shape of a: (4,)\n",
            "Shape of b: (2, 2)\n",
            "Dimensions of b: 2\n",
            "First element of a: 1\n",
            "Element at row1,col1 in b: 4\n",
            "Slice a[1:3]: [2 3]\n",
            "x+y: [11 22 33]\n",
            "x*y: [10 40 90]\n",
            "x squared: [1 4 9]\n",
            "Mean: 3.0\n",
            "Sum: 15\n",
            "Max: 5\n",
            "Std Dev: 1.4142135623730951\n",
            "Matrix Multiplication:\n",
            " [[19 22]\n",
            " [43 50]]\n",
            "Inverse of A:\n",
            " [[-2.   1. ]\n",
            " [ 1.5 -0.5]]\n",
            "Random integers: [6 5 7 6 9]\n",
            "Random normal: [-0.94111623 -1.5553991   0.65372996 -2.56900687 -1.78542705]\n"
          ]
        }
      ],
      "source": [
        "# Quick NumPy Tutorial (Google Colab Ready)\n",
        "\n",
        "import numpy as np\n",
        "\n",
        "# --- 1. Creating Arrays ---\n",
        "print(\"1D Array:\", np.array([1, 2, 3, 4]))\n",
        "print(\"2D Array:\\n\", np.array([[1, 2], [3, 4]]))\n",
        "print(\"Zeros:\\n\", np.zeros((2, 3)))\n",
        "print(\"Ones:\\n\", np.ones((3, 3)))\n",
        "print(\"Random:\\n\", np.random.rand(2, 2))\n",
        "\n",
        "# --- 2. Properties ---\n",
        "a = np.array([1, 2, 3, 4])\n",
        "b = np.array([[1, 2], [3, 4]])\n",
        "print(\"Shape of a:\", a.shape)\n",
        "print(\"Shape of b:\", b.shape)\n",
        "print(\"Dimensions of b:\", b.ndim)\n",
        "\n",
        "# --- 3. Indexing & Slicing ---\n",
        "print(\"First element of a:\", a[0])\n",
        "print(\"Element at row1,col1 in b:\", b[1,1])\n",
        "print(\"Slice a[1:3]:\", a[1:3])\n",
        "\n",
        "# --- 4. Math Operations ---\n",
        "x = np.array([1, 2, 3])\n",
        "y = np.array([10, 20, 30])\n",
        "print(\"x+y:\", x+y)\n",
        "print(\"x*y:\", x*y)\n",
        "print(\"x squared:\", x**2)\n",
        "\n",
        "# --- 5. Useful Functions ---\n",
        "arr = np.array([1, 2, 3, 4, 5])\n",
        "print(\"Mean:\", np.mean(arr))\n",
        "print(\"Sum:\", np.sum(arr))\n",
        "print(\"Max:\", np.max(arr))\n",
        "print(\"Std Dev:\", np.std(arr))\n",
        "\n",
        "# --- 6. Matrix Operations ---\n",
        "A = np.array([[1, 2], [3, 4]])\n",
        "B = np.array([[5, 6], [7, 8]])\n",
        "print(\"Matrix Multiplication:\\n\", A @ B)\n",
        "print(\"Inverse of A:\\n\", np.linalg.inv(A))\n",
        "\n",
        "# --- 7. Random Numbers ---\n",
        "print(\"Random integers:\", np.random.randint(1, 10, size=5))\n",
        "print(\"Random normal:\", np.random.normal(0, 1, size=5))\n",
        "\n",
        "# --- Exercises ---\n",
        "# 1. Create a 1D array of numbers 1 to 10 and print only even numbers\n",
        "# 2. Generate a 3x3 random matrix and find its determinant\n",
        "# 3. Create two arrays and compute cosine similarity\n",
        "# 4. Normalize an array (values between 0 and 1)\n"
      ]
    }
  ]
}